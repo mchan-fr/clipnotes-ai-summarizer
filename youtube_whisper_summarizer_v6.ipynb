{
 "cells": [
  {
   "cell_type": "code",
   "execution_count": 1,
   "id": "1b3a6f1b",
   "metadata": {},
   "outputs": [
    {
     "name": "stdout",
     "output_type": "stream",
     "text": [
      "Requirement already satisfied: yt-dlp in ./venv/lib/python3.12/site-packages (2025.5.22)\n",
      "Requirement already satisfied: openai in ./venv/lib/python3.12/site-packages (1.83.0)\n",
      "Requirement already satisfied: python-dotenv in ./venv/lib/python3.12/site-packages (1.1.0)\n",
      "Requirement already satisfied: ipykernel in ./venv/lib/python3.12/site-packages (6.29.5)\n",
      "Requirement already satisfied: anyio<5,>=3.5.0 in ./venv/lib/python3.12/site-packages (from openai) (4.9.0)\n",
      "Requirement already satisfied: distro<2,>=1.7.0 in ./venv/lib/python3.12/site-packages (from openai) (1.9.0)\n",
      "Requirement already satisfied: httpx<1,>=0.23.0 in ./venv/lib/python3.12/site-packages (from openai) (0.28.1)\n",
      "Requirement already satisfied: jiter<1,>=0.4.0 in ./venv/lib/python3.12/site-packages (from openai) (0.10.0)\n",
      "Requirement already satisfied: pydantic<3,>=1.9.0 in ./venv/lib/python3.12/site-packages (from openai) (2.11.5)\n",
      "Requirement already satisfied: sniffio in ./venv/lib/python3.12/site-packages (from openai) (1.3.1)\n",
      "Requirement already satisfied: tqdm>4 in ./venv/lib/python3.12/site-packages (from openai) (4.67.1)\n",
      "Requirement already satisfied: typing-extensions<5,>=4.11 in ./venv/lib/python3.12/site-packages (from openai) (4.14.0)\n",
      "Requirement already satisfied: idna>=2.8 in ./venv/lib/python3.12/site-packages (from anyio<5,>=3.5.0->openai) (3.10)\n",
      "Requirement already satisfied: certifi in ./venv/lib/python3.12/site-packages (from httpx<1,>=0.23.0->openai) (2025.4.26)\n",
      "Requirement already satisfied: httpcore==1.* in ./venv/lib/python3.12/site-packages (from httpx<1,>=0.23.0->openai) (1.0.9)\n",
      "Requirement already satisfied: h11>=0.16 in ./venv/lib/python3.12/site-packages (from httpcore==1.*->httpx<1,>=0.23.0->openai) (0.16.0)\n",
      "Requirement already satisfied: annotated-types>=0.6.0 in ./venv/lib/python3.12/site-packages (from pydantic<3,>=1.9.0->openai) (0.7.0)\n",
      "Requirement already satisfied: pydantic-core==2.33.2 in ./venv/lib/python3.12/site-packages (from pydantic<3,>=1.9.0->openai) (2.33.2)\n",
      "Requirement already satisfied: typing-inspection>=0.4.0 in ./venv/lib/python3.12/site-packages (from pydantic<3,>=1.9.0->openai) (0.4.1)\n",
      "Requirement already satisfied: appnope in ./venv/lib/python3.12/site-packages (from ipykernel) (0.1.4)\n",
      "Requirement already satisfied: comm>=0.1.1 in ./venv/lib/python3.12/site-packages (from ipykernel) (0.2.2)\n",
      "Requirement already satisfied: debugpy>=1.6.5 in ./venv/lib/python3.12/site-packages (from ipykernel) (1.8.14)\n",
      "Requirement already satisfied: ipython>=7.23.1 in ./venv/lib/python3.12/site-packages (from ipykernel) (9.3.0)\n",
      "Requirement already satisfied: jupyter-client>=6.1.12 in ./venv/lib/python3.12/site-packages (from ipykernel) (8.6.3)\n",
      "Requirement already satisfied: jupyter-core!=5.0.*,>=4.12 in ./venv/lib/python3.12/site-packages (from ipykernel) (5.8.1)\n",
      "Requirement already satisfied: matplotlib-inline>=0.1 in ./venv/lib/python3.12/site-packages (from ipykernel) (0.1.7)\n",
      "Requirement already satisfied: nest-asyncio in ./venv/lib/python3.12/site-packages (from ipykernel) (1.6.0)\n",
      "Requirement already satisfied: packaging in ./venv/lib/python3.12/site-packages (from ipykernel) (24.2)\n",
      "Requirement already satisfied: psutil in ./venv/lib/python3.12/site-packages (from ipykernel) (7.0.0)\n",
      "Requirement already satisfied: pyzmq>=24 in ./venv/lib/python3.12/site-packages (from ipykernel) (26.4.0)\n",
      "Requirement already satisfied: tornado>=6.1 in ./venv/lib/python3.12/site-packages (from ipykernel) (6.5.1)\n",
      "Requirement already satisfied: traitlets>=5.4.0 in ./venv/lib/python3.12/site-packages (from ipykernel) (5.14.3)\n",
      "Requirement already satisfied: decorator in ./venv/lib/python3.12/site-packages (from ipython>=7.23.1->ipykernel) (5.2.1)\n",
      "Requirement already satisfied: ipython-pygments-lexers in ./venv/lib/python3.12/site-packages (from ipython>=7.23.1->ipykernel) (1.1.1)\n",
      "Requirement already satisfied: jedi>=0.16 in ./venv/lib/python3.12/site-packages (from ipython>=7.23.1->ipykernel) (0.19.2)\n",
      "Requirement already satisfied: pexpect>4.3 in ./venv/lib/python3.12/site-packages (from ipython>=7.23.1->ipykernel) (4.9.0)\n",
      "Requirement already satisfied: prompt_toolkit<3.1.0,>=3.0.41 in ./venv/lib/python3.12/site-packages (from ipython>=7.23.1->ipykernel) (3.0.51)\n",
      "Requirement already satisfied: pygments>=2.4.0 in ./venv/lib/python3.12/site-packages (from ipython>=7.23.1->ipykernel) (2.19.1)\n",
      "Requirement already satisfied: stack_data in ./venv/lib/python3.12/site-packages (from ipython>=7.23.1->ipykernel) (0.6.3)\n",
      "Requirement already satisfied: wcwidth in ./venv/lib/python3.12/site-packages (from prompt_toolkit<3.1.0,>=3.0.41->ipython>=7.23.1->ipykernel) (0.2.13)\n",
      "Requirement already satisfied: parso<0.9.0,>=0.8.4 in ./venv/lib/python3.12/site-packages (from jedi>=0.16->ipython>=7.23.1->ipykernel) (0.8.4)\n",
      "Requirement already satisfied: python-dateutil>=2.8.2 in ./venv/lib/python3.12/site-packages (from jupyter-client>=6.1.12->ipykernel) (2.9.0.post0)\n",
      "Requirement already satisfied: platformdirs>=2.5 in ./venv/lib/python3.12/site-packages (from jupyter-core!=5.0.*,>=4.12->ipykernel) (4.3.8)\n",
      "Requirement already satisfied: ptyprocess>=0.5 in ./venv/lib/python3.12/site-packages (from pexpect>4.3->ipython>=7.23.1->ipykernel) (0.7.0)\n",
      "Requirement already satisfied: six>=1.5 in ./venv/lib/python3.12/site-packages (from python-dateutil>=2.8.2->jupyter-client>=6.1.12->ipykernel) (1.17.0)\n",
      "Requirement already satisfied: executing>=1.2.0 in ./venv/lib/python3.12/site-packages (from stack_data->ipython>=7.23.1->ipykernel) (2.2.0)\n",
      "Requirement already satisfied: asttokens>=2.1.0 in ./venv/lib/python3.12/site-packages (from stack_data->ipython>=7.23.1->ipykernel) (3.0.0)\n",
      "Requirement already satisfied: pure-eval in ./venv/lib/python3.12/site-packages (from stack_data->ipython>=7.23.1->ipykernel) (0.2.3)\n"
     ]
    }
   ],
   "source": [
    "!pip install yt-dlp openai python-dotenv ipykernel"
   ]
  },
  {
   "cell_type": "code",
   "execution_count": 39,
   "id": "b79e10d2",
   "metadata": {},
   "outputs": [
    {
     "data": {
      "text/plain": [
       "True"
      ]
     },
     "execution_count": 39,
     "metadata": {},
     "output_type": "execute_result"
    }
   ],
   "source": [
    "\n",
    "import os\n",
    "import subprocess\n",
    "import openai\n",
    "from openai import OpenAI\n",
    "import uuid\n",
    "from dotenv import load_dotenv\n",
    "\n",
    "# Load environment variables\n",
    "load_dotenv(dotenv_path=\"../env_file/.env\")\n"
   ]
  },
  {
   "cell_type": "code",
   "execution_count": 41,
   "id": "09e80488",
   "metadata": {},
   "outputs": [],
   "source": [
    "\n",
    "def download_audio(video_url):\n",
    "    try:\n",
    "        unique_id = str(uuid.uuid4())\n",
    "        output_filename = f\"downloaded_audio_{unique_id}.mp3\"\n",
    "        command = [\n",
    "            'yt-dlp',\n",
    "            '-f', 'bestaudio',\n",
    "            '--extract-audio',\n",
    "            '--audio-format', 'mp3',\n",
    "            '--ffmpeg-location', '/opt/homebrew/bin/ffmpeg',\n",
    "            '--output', output_filename.replace(\".mp3\", \".%(ext)s\"),\n",
    "            video_url\n",
    "        ]\n",
    "        subprocess.run(command, check=True)\n",
    "        return output_filename\n",
    "    except Exception as e:\n",
    "        print(f\"Error downloading audio: {e}\")\n",
    "        return None\n"
   ]
  },
  {
   "cell_type": "code",
   "execution_count": 51,
   "id": "a12a13e0",
   "metadata": {},
   "outputs": [],
   "source": [
    "def transcribe_audio(audio_path):\n",
    "    try:\n",
    "        client = OpenAI()\n",
    "        with open(audio_path, \"rb\") as audio_file:\n",
    "            transcript = client.audio.transcriptions.create(\n",
    "                model=\"whisper-1\",\n",
    "                file=audio_file,\n",
    "                response_format=\"verbose_json\"\n",
    "            )\n",
    "        text = transcript.text\n",
    "        segments = transcript.segments\n",
    "        return text, segments\n",
    "    except Exception as e:\n",
    "        print(f\"Error transcribing audio: {e}\")\n",
    "        return None, None\n"
   ]
  },
  {
   "cell_type": "code",
   "execution_count": 59,
   "id": "0bffd5b6-143d-4a4a-820d-0318b88e92cf",
   "metadata": {},
   "outputs": [],
   "source": [
    "def format_segments_with_timestamps(segments):\n",
    "    formatted = []\n",
    "    for seg in segments:\n",
    "        start = int(seg.start)\n",
    "        minutes = start // 60\n",
    "        seconds = start % 60\n",
    "        timestamp = f\"{minutes}:{seconds:02d}\"\n",
    "        formatted.append(f\"[{timestamp}] {seg.text}\")\n",
    "    return \"\\n\".join(formatted)"
   ]
  },
  {
   "cell_type": "code",
   "execution_count": 61,
   "id": "a77ae406",
   "metadata": {},
   "outputs": [],
   "source": [
    "def summarize_text(transcript, segments, mode=\"basic\"):\n",
    "    prompts = {\n",
    "        \"basic\": f\"Summarize the following transcript:\\n\\n{transcript}\",\n",
    "        \"bullets\": f\"Summarize the following transcript into concise bullet points:\\n\\n{transcript}\",\n",
    "        \"quotes\": f\"Extract 5-10 of the most compelling or insightful quotes from this transcript. Include timestamps:\\n\\n{format_segments_with_timestamps(segments)}\",\n",
    "        \"insights\": f\"Summarize the following transcript by extracting the key insights and implications. Be concise but thoughtful:\\n\\n{transcript}\"\n",
    "    }\n",
    "\n",
    "    prompt = prompts.get(mode, prompts[\"basic\"])\n",
    "\n",
    "    try:\n",
    "        client = OpenAI()\n",
    "        response = client.chat.completions.create(\n",
    "            model=\"gpt-4\",\n",
    "            messages=[{\"role\": \"user\", \"content\": prompt}],\n",
    "            temperature=0.7,\n",
    "            max_tokens=700\n",
    "        )\n",
    "        return response.choices[0].message.content.strip()\n",
    "    except Exception as e:\n",
    "        print(f\"Error generating summary: {e}\")\n",
    "        return None\n"
   ]
  },
  {
   "cell_type": "code",
   "execution_count": 69,
   "id": "bf032bc0",
   "metadata": {},
   "outputs": [
    {
     "name": "stdin",
     "output_type": "stream",
     "text": [
      "Enter YouTube URL:  https://www.youtube.com/watch?v=kE5iJgFm04Y\n",
      "Choose summary style (basic, bullets, quotes, insights):  quotes\n",
      "Would you like to see the full transcript first? (yes/no):  no\n"
     ]
    },
    {
     "name": "stdout",
     "output_type": "stream",
     "text": [
      "[youtube] Extracting URL: https://www.youtube.com/watch?v=kE5iJgFm04Y\n",
      "[youtube] kE5iJgFm04Y: Downloading webpage\n",
      "[youtube] kE5iJgFm04Y: Downloading tv client config\n",
      "[youtube] kE5iJgFm04Y: Downloading tv player API JSON\n",
      "[youtube] kE5iJgFm04Y: Downloading ios player API JSON\n",
      "[youtube] kE5iJgFm04Y: Downloading m3u8 information\n",
      "[info] kE5iJgFm04Y: Downloading 1 format(s): 251\n",
      "[download] Destination: downloaded_audio_71074d1c-c084-4a20-be29-1e179dea78bd.webm\n",
      "[download] 100% of   10.57MiB in 00:00:01 at 7.34MiB/s   \n",
      "[ExtractAudio] Destination: downloaded_audio_71074d1c-c084-4a20-be29-1e179dea78bd.mp3\n",
      "Deleting original file downloaded_audio_71074d1c-c084-4a20-be29-1e179dea78bd.webm (pass -k to keep)\n",
      "\n",
      "--- Summary ---\n",
      "\n",
      "1. [0:28] \"Clearly people did it, but I don't know how people figured out how to take care of newborns without ChatGBT. That has been a real lifesaver.\"\n",
      "2. [0:52] \"I'm like, wait, you're texting your dad and you don't – it is something about the new generation that it is so seamlessly integrated into life.\"\n",
      "3. [1:46] \"I think some use cases that people use search engines for today are definitely better done on a service like ChatGBT.\"\n",
      "4. [2:48] \"There are going to be a lot of good open-source models, and clearly there are incredibly talented people working at DeepSeek doing great research.\"\n",
      "5. [4:50] \"And the fact that China is not theoretically in the race for AI dominance but actually is very much a formidable competitor.\"\n",
      "6. [5:16] \"And that we're going to have to work as America together to kind of propel our solutions forward.\"\n",
      "7. [7:40] \"But I think if the sort of mental model is winning diffusion instead of stopping diffusion, that directionally seems right.\"\n",
      "8. [8:16] \"Maybe most obviously if they're using Chad GPT versus DeepSeq, but also if they're using U.S. chips and U.S. data center technology and all of the amazing stuff Microsoft does, that's a win for us.\"\n",
      "9. [9:04] \"Simple rules that can be easily applied, that really allow our allies to protect our technology while still utilizing the best that the United States has to offer.\"\n",
      "10. [11:09] \"And there are certain harmful uses that one should want to prohibit and preclude, like using a model to create the next pandemic, a biological weapon, a nuclear weapon.\"\n"
     ]
    }
   ],
   "source": [
    "\n",
    "video_url = input(\"Enter YouTube URL: \").strip()\n",
    "mode = input(\"Choose summary style (basic, bullets, quotes, insights): \").strip().lower()\n",
    "show_transcript = input(\"Would you like to see the full transcript first? (yes/no): \").strip().lower()\n",
    "\n",
    "audio_file = download_audio(video_url)\n",
    "\n",
    "if audio_file:\n",
    "    transcript_text, segments = transcribe_audio(audio_file)\n",
    "    if transcript_text:\n",
    "        if show_transcript == \"yes\":\n",
    "            print(\"\\n--- Transcript fetched ---\\n\")\n",
    "            print(transcript_text)\n",
    "\n",
    "        print(\"\\n--- Summary ---\\n\")\n",
    "        print(summarize_text(transcript_text, segments, mode))\n",
    "    else:\n",
    "        print(\"Transcription failed.\")\n",
    "else:\n",
    "    print(\"Audio download failed.\")\n"
   ]
  },
  {
   "cell_type": "code",
   "execution_count": null,
   "id": "cccaba15-a4d0-437f-8250-c2ec48525c3a",
   "metadata": {},
   "outputs": [],
   "source": []
  }
 ],
 "metadata": {
  "kernelspec": {
   "display_name": "Python (YouTube Summarizer)",
   "language": "python",
   "name": "venv"
  },
  "language_info": {
   "codemirror_mode": {
    "name": "ipython",
    "version": 3
   },
   "file_extension": ".py",
   "mimetype": "text/x-python",
   "name": "python",
   "nbconvert_exporter": "python",
   "pygments_lexer": "ipython3",
   "version": "3.12.2"
  }
 },
 "nbformat": 4,
 "nbformat_minor": 5
}
